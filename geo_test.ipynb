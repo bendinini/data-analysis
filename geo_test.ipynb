{
  "nbformat": 4,
  "nbformat_minor": 0,
  "metadata": {
    "colab": {
      "provenance": [],
      "authorship_tag": "ABX9TyPqGnDwMtcRgeuvj3ak96iN"
    },
    "kernelspec": {
      "name": "python3",
      "display_name": "Python 3"
    },
    "language_info": {
      "name": "python"
    }
  },
  "cells": [
    {
      "cell_type": "code",
      "execution_count": 1,
      "metadata": {
        "colab": {
          "base_uri": "https://localhost:8080/"
        },
        "id": "lLTQlHy18YBs",
        "outputId": "a5d49daf-98a2-4b35-e4c1-d29a170e1804"
      },
      "outputs": [
        {
          "output_type": "stream",
          "name": "stdout",
          "text": [
            "Перекрываются ли зоны видимости фортов на залив?  Нет\n"
          ]
        }
      ],
      "source": [
        "import geopandas as gpd\n",
        "from shapely.geometry import Point\n",
        "from shapely.ops import unary_union\n",
        "\n",
        "# Загрузка данных из файла GeoJSON\n",
        "forts = gpd.read_file('geo.geojson')\n",
        "\n",
        "# Создание буфера вокруг каждого форта с радиусом 1 км\n",
        "forts['buffer'] = forts.geometry.buffer(1/111.12)  # преобразование км в градусы\n",
        "\n",
        "# Объединение всех буферов в один геометрический объект\n",
        "union = unary_union(forts['buffer'])\n",
        "\n",
        "# Проверка на пересечение буферов\n",
        "overlap = union.area > sum(forts['buffer'].area)\n",
        "\n",
        "print('Перекрываются ли зоны видимости фортов на залив? ', 'Да' if overlap else 'Нет')\n"
      ]
    }
  ]
}